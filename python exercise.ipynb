{
 "cells": [
  {
   "cell_type": "code",
   "execution_count": 10,
   "id": "a5be899d",
   "metadata": {},
   "outputs": [
    {
     "name": "stdout",
     "output_type": "stream",
     "text": [
      "she is ayesha and her age is 17\n"
     ]
    }
   ],
   "source": [
    "#simple variable assignment\n",
    "name=\"ayesha\"\n",
    "age=17\n",
    "print(f\"she is {name} and her age is {age}\")"
   ]
  },
  {
   "cell_type": "code",
   "execution_count": 11,
   "id": "a2b3a65a",
   "metadata": {},
   "outputs": [
    {
     "name": "stdout",
     "output_type": "stream",
     "text": [
      "8\n"
     ]
    }
   ],
   "source": [
    "#multiple varaibles assignments\n",
    "num=3\n",
    "num2=5\n",
    "result=(num1+num2)\n",
    "print(result)"
   ]
  },
  {
   "cell_type": "code",
   "execution_count": 12,
   "id": "3db4c343",
   "metadata": {},
   "outputs": [
    {
     "name": "stdout",
     "output_type": "stream",
     "text": [
      "28.799999999999997\n"
     ]
    }
   ],
   "source": [
    "#varaibles types\n",
    "price=4.8\n",
    "quantity=6\n",
    "total_cost=(price*quantity)\n",
    "print(total_cost)"
   ]
  },
  {
   "cell_type": "code",
   "execution_count": 15,
   "id": "b13fcc5e",
   "metadata": {},
   "outputs": [
    {
     "name": "stdout",
     "output_type": "stream",
     "text": [
      "hello world\n"
     ]
    }
   ],
   "source": [
    "#string concatenatiion\n",
    "first_name=\"hello\"\n",
    "last_name=\"world\"\n",
    "full_name=(first_name+\" \"+last_name)\n",
    "print(full_name)"
   ]
  },
  {
   "cell_type": "code",
   "execution_count": 23,
   "id": "c750dbaf",
   "metadata": {},
   "outputs": [
    {
     "name": "stdout",
     "output_type": "stream",
     "text": [
      "enter the username:Virat Kholi\n",
      "hello Virat Kholi\n"
     ]
    }
   ],
   "source": [
    "#interative user input\n",
    "user_input=input(\"enter the username:\")\n",
    "print(\"hello\" + \" \" +user_input)\n"
   ]
  },
  {
   "cell_type": "code",
   "execution_count": 25,
   "id": "210660b4",
   "metadata": {},
   "outputs": [
    {
     "name": "stdout",
     "output_type": "stream",
     "text": [
      "the value of c is  6\n",
      "the value if d is  4\n"
     ]
    }
   ],
   "source": [
    "#swapping of varaibles\n",
    "c=4\n",
    "d=6\n",
    "c,d=d,c\n",
    "print(\"the value of c is \",c)\n",
    "print(\"the value if d is \",d)"
   ]
  },
  {
   "cell_type": "code",
   "execution_count": 28,
   "id": "35ae0d0c",
   "metadata": {},
   "outputs": [
    {
     "name": "stdout",
     "output_type": "stream",
     "text": [
      "enter the number:7\n",
      "odd number\n"
     ]
    }
   ],
   "source": [
    "#identify the number is evenor odd\n",
    "num = int(input(\"enter the number:\"))\n",
    "if num %2==0:\n",
    "        print(\"even number\")\n",
    "else:\n",
    "        print(\"odd number\")\n",
    "                \n",
    "        "
   ]
  },
  {
   "cell_type": "code",
   "execution_count": 34,
   "id": "e8f19d6b",
   "metadata": {},
   "outputs": [
    {
     "name": "stdout",
     "output_type": "stream",
     "text": [
      "enter the number:6\n",
      "not a prime\n"
     ]
    }
   ],
   "source": [
    "#prime number\n",
    "num=int(input(\"enter the number:\"))\n",
    "if num ==1:\n",
    "        print(\"not a prime number\")\n",
    "if num >1:\n",
    "        for i in range(3,num):\n",
    "            if num % i==0:\n",
    "                print(\"not a prime\")\n",
    "else:\n",
    "        print(\"prime number\")\n",
    "        \n",
    "\n",
    "              "
   ]
  },
  {
   "cell_type": "code",
   "execution_count": null,
   "id": "45dcab1e",
   "metadata": {},
   "outputs": [],
   "source": []
  },
  {
   "cell_type": "code",
   "execution_count": null,
   "id": "c3b88b8e",
   "metadata": {},
   "outputs": [],
   "source": []
  }
 ],
 "metadata": {
  "kernelspec": {
   "display_name": "Python 3 (ipykernel)",
   "language": "python",
   "name": "python3"
  },
  "language_info": {
   "codemirror_mode": {
    "name": "ipython",
    "version": 3
   },
   "file_extension": ".py",
   "mimetype": "text/x-python",
   "name": "python",
   "nbconvert_exporter": "python",
   "pygments_lexer": "ipython3",
   "version": "3.11.5"
  }
 },
 "nbformat": 4,
 "nbformat_minor": 5
}
